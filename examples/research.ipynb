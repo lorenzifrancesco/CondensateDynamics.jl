{
 "cells": [
  {
   "attachments": {},
   "cell_type": "markdown",
   "metadata": {},
   "source": [
    "# CondensateDynamics.jl research notes"
   ]
  },
  {
   "attachments": {},
   "cell_type": "markdown",
   "metadata": {},
   "source": [
    "### Connection to SolitonBEC.jl simulations (1D-GPE vs NPSE vs 3D-GPE)"
   ]
  },
  {
   "cell_type": "code",
   "execution_count": 7,
   "metadata": {},
   "outputs": [
    {
     "name": "stdout",
     "output_type": "stream",
     "text": [
      "\n",
      "interaction_g: 1.97589411873e-40\n",
      "velocity_unit0.00749458343440381"
     ]
    },
    {
     "data": {
      "text/plain": [
       "1.97589411873e-40"
      ]
     },
     "metadata": {},
     "output_type": "display_data"
    }
   ],
   "source": [
    "# simulation parameters in SolitonBEC.jl\n",
    "hbar = 6.62607015e-34 / (2 * pi)\n",
    "mass = 6.941 * 1.660539e-27\n",
    "omega_perp = 2 * pi * 710\n",
    "l_perp = sqrt(hbar / (mass * omega_perp))\n",
    "N = 4e3\n",
    "as = -0.21e-9\n",
    "\n",
    "barrier_width = 1e-6\n",
    "\n",
    "interaction_g = abs(2 * hbar^2 * as / mass / l_perp^2)\n",
    "ggg = interaction_g # 2 * hbar * omega_perp * abs(as)\n",
    "\n",
    "time_unit = hbar^2 / (mass * ggg * N)\n",
    "space_unit = hbar^3 / (mass * ggg^2 * N^2)\n",
    "velocity_unit = ggg * N / hbar\n",
    "print(\"\\ninteraction_g: \", interaction_g)\n",
    "print(\"\\nvelocity_unit\", velocity_unit)"
   ]
  },
  {
   "cell_type": "code",
   "execution_count": 8,
   "metadata": {},
   "outputs": [
    {
     "name": "stdout",
     "output_type": "stream",
     "text": [
      "\n",
      "g_h: 1.1730752499451107\n",
      "max_vel_h: 1.1730752499451107\n",
      "max_bar_h: 1.6852491016406608"
     ]
    }
   ],
   "source": [
    "# compute harmonic oscillator units\n",
    "g_h = interaction_g / (hbar*omega_perp*l_perp) * N\n",
    "max_vel_h = velocity_unit / (l_perp*omega_perp) \n",
    "max_bar_h = 15036/2 / omega_perp\n",
    "\n",
    "print(\"\\ng_h: \", g_h)\n",
    "print(\"\\nmax_vel_h: \", max_vel_h)\n",
    "print(\"\\nmax_bar_h: \", max_bar_h)\n"
   ]
  },
  {
   "cell_type": "code",
   "execution_count": null,
   "metadata": {},
   "outputs": [],
   "source": [
    "nonlinear = g*abs2.(dpsi) ./sigma2.(dpsi) + (1 ./(2*sigma2.(dpsi)) + 1/2*sigma2.(dpsi))\n",
    "      @. dpsi *= -im*iswitch* (V0 + V(x, t) + nonlinear) + "
   ]
  }
 ],
 "metadata": {
  "kernelspec": {
   "display_name": "Julia 1.8.4",
   "language": "julia",
   "name": "julia-1.8"
  },
  "language_info": {
   "file_extension": ".jl",
   "mimetype": "application/julia",
   "name": "julia",
   "version": "1.8.4"
  },
  "orig_nbformat": 4
 },
 "nbformat": 4,
 "nbformat_minor": 2
}
